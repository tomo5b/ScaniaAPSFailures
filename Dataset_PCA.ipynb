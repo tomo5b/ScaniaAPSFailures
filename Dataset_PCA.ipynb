{
 "cells": [
  {
   "cell_type": "markdown",
   "id": "ccfc7dea",
   "metadata": {},
   "source": [
    "#### PCA Dataset"
   ]
  },
  {
   "cell_type": "code",
   "execution_count": 1,
   "id": "ce508049",
   "metadata": {},
   "outputs": [],
   "source": [
    "import pandas as pd\n",
    "import numpy as np\n",
    "from sklearn.preprocessing import StandardScaler\n",
    "from sklearn.decomposition import PCA"
   ]
  },
  {
   "cell_type": "code",
   "execution_count": 3,
   "id": "12288486",
   "metadata": {},
   "outputs": [
    {
     "name": "stderr",
     "output_type": "stream",
     "text": [
      "<>:1: SyntaxWarning: invalid escape sequence '\\T'\n",
      "<>:1: SyntaxWarning: invalid escape sequence '\\T'\n",
      "C:\\Users\\tbrenchley\\AppData\\Local\\Temp\\ipykernel_28516\\2033676673.py:1: SyntaxWarning: invalid escape sequence '\\T'\n",
      "  TestData = pd.read_csv('data\\TestData.csv')\n"
     ]
    }
   ],
   "source": [
    "TestData = pd.read_csv('data\\TestData.csv')"
   ]
  },
  {
   "cell_type": "code",
   "execution_count": null,
   "id": "83bb7ac4",
   "metadata": {},
   "outputs": [],
   "source": []
  }
 ],
 "metadata": {
  "kernelspec": {
   "display_name": "ApprenticeshipNotesEnv",
   "language": "python",
   "name": "python3"
  },
  "language_info": {
   "codemirror_mode": {
    "name": "ipython",
    "version": 3
   },
   "file_extension": ".py",
   "mimetype": "text/x-python",
   "name": "python",
   "nbconvert_exporter": "python",
   "pygments_lexer": "ipython3",
   "version": "3.12.3"
  }
 },
 "nbformat": 4,
 "nbformat_minor": 5
}
